{
 "cells": [
  {
   "cell_type": "code",
   "execution_count": null,
   "id": "c8d891d3",
   "metadata": {},
   "outputs": [
    {
     "ename": "",
     "evalue": "",
     "output_type": "error",
     "traceback": [
      "\u001b[1;31mFailed to start the Kernel. \n",
      "\u001b[1;31mPermissionError: [Errno 13] Permission denied: 'c:\\\\Users\\\\Tringaps-User\\\\AppData\\\\Roaming\\\\jupyter\\\\runtime\\\\kernel-v31a99630432252b2a522010ed8ef9bfd4cbbe2f1b.json'. \n",
      "\u001b[1;31mView Jupyter <a href='command:jupyter.viewOutput'>log</a> for further details."
     ]
    }
   ],
   "source": [
    "import pandas as pd\n",
    "from tabulate import tabulate\n",
    "df = pd.read_excel(\"Financial_Report Apple.xlsx\",sheet_name=\"CONDENSED CONSOLIDATED STATEMEN\",engine=\"openpyxl\")\n",
    "print(df.to_string)\n",
    "dcol1=df.iloc[0:1]\n",
    "print(dcol1)\n"
   ]
  }
 ],
 "metadata": {
  "kernelspec": {
   "display_name": "Python 3",
   "language": "python",
   "name": "python3"
  },
  "language_info": {
   "name": "python",
   "version": "3.13.3"
  }
 },
 "nbformat": 4,
 "nbformat_minor": 5
}
